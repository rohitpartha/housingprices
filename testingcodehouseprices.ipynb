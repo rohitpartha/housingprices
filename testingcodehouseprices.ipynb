{
 "cells": [
  {
   "cell_type": "code",
   "execution_count": 1,
   "metadata": {
    "scrolled": false
   },
   "outputs": [],
   "source": [
    "import pandas as pd\n",
    "import matplotlib.pyplot as plt\n",
    "import seaborn as sns\n",
    "import numpy as np\n",
    "from scipy.stats import norm\n",
    "from sklearn.preprocessing import StandardScaler\n",
    "from scipy import stats\n",
    "import warnings\n",
    "warnings.filterwarnings('ignore')\n",
    "%matplotlib inline\n",
    "\n",
    "housedatatrain = pd.read_csv(\"./train.csv\")\n",
    "housedatatest = pd.read_csv(\"./test.csv\")\n",
    "\n",
    "#save the saleprice before dropping it\n",
    "SalePrice = housedatatrain.SalePrice\n",
    "\n",
    "\n",
    "#add NaN for the SalePrice to the real test data\n",
    "housedatatest['SalePrice'] = np.nan\n",
    "\n",
    "\n"
   ]
  },
  {
   "cell_type": "code",
   "execution_count": 8,
   "metadata": {},
   "outputs": [],
   "source": [
    "#########################cleaning basement variables######################################################\n",
    "#first, check rows where TotalBsmtSF is 0, and set BsmtQual, BsmtCond, BsmtExposure, and BsmtFinType1 to \"None\"\n",
    "\n",
    "#train cleaning\n",
    "housedatatrain.iloc[housedatatrain.loc[housedatatrain['TotalBsmtSF']==0].index, \n",
    "                    [housedatatrain.columns.get_loc(c) for c in ['BsmtQual', \"BsmtCond\", \"BsmtExposure\", \"BsmtFinType1\"]]] = \"None\"\n",
    "\n",
    "#test cleaning\n",
    "housedatatest.iloc[housedatatest.loc[housedatatest['TotalBsmtSF']==0].index, \n",
    "                   [housedatatest.columns.get_loc(c) for c in ['BsmtQual', \"BsmtCond\", \"BsmtExposure\", \"BsmtFinType1\"]]] = \"None\"\n",
    "\n",
    "\n",
    "#check rows where BsmtFinSF2 is 0, and set BsmtFinType2 to None\n",
    "#train cleaning\n",
    "housedatatrain.iloc[housedatatrain.loc[housedatatrain['BsmtFinSF2']==0].index, \n",
    "                    housedatatrain.columns.get_loc(\"BsmtFinType2\")] = \"None\"\n",
    "\n",
    "#test cleaning\n",
    "housedatatest.iloc[housedatatest.loc[housedatatest['BsmtFinSF2']==0].index, \n",
    "                   housedatatest.columns.get_loc(\"BsmtFinType2\")] = \"None\"\n",
    "\n",
    "\n",
    "#check if BsmtQual, BsmtCond, and BsmtExposure are NA: if they are, set them and BsmtFinType1 and BsmtFinType2 to None, \n",
    "# set BsmtFinSF1, BsmtFinSF2, BsmtUnfSF, and TotalBsmtSF to 0\n",
    "\n",
    "#train cleaning\n",
    "\n",
    "#cleaning basement variables\n",
    "#first, check rows where TotalBsmtSF is 0, and set BsmtQual, BsmtCond, BsmtExposure, and BsmtFinType1 to \"None\"\n",
    "\n",
    "#train cleaning\n",
    "housedatatrain.iloc[housedatatrain.loc[housedatatrain['TotalBsmtSF']==0].index, \n",
    "                    [housedatatrain.columns.get_loc(c) for c in ['BsmtQual', \"BsmtCond\", \"BsmtExposure\", \"BsmtFinType1\"]]] = \"None\"\n",
    "\n",
    "#test cleaning\n",
    "housedatatest.iloc[housedatatest.loc[housedatatest['TotalBsmtSF']==0].index, \n",
    "                   [housedatatest.columns.get_loc(c) for c in ['BsmtQual', \"BsmtCond\", \"BsmtExposure\", \"BsmtFinType1\"]]] = \"None\"\n",
    "\n",
    "\n",
    "#check rows where BsmtFinSF2 is 0, and set BsmtFinType2 to None\n",
    "#train cleaning\n",
    "housedatatrain.iloc[housedatatrain.loc[housedatatrain['BsmtFinSF2']==0].index, \n",
    "                    housedatatrain.columns.get_loc(\"BsmtFinType2\")] = \"None\"\n",
    "\n",
    "#test cleaning\n",
    "housedatatest.iloc[housedatatest.loc[housedatatest['BsmtFinSF2']==0].index, \n",
    "                   housedatatest.columns.get_loc(\"BsmtFinType2\")] = \"None\"\n",
    "\n",
    "\n",
    "#check if BsmtQual, BsmtCond, and BsmtExposure are NA: if they are, set them and BsmtFinType1 and BsmtFinType2 to None, \n",
    "# set BsmtFinSF1, BsmtFinSF2, BsmtUnfSF, and TotalBsmtSF to 0\n",
    "\n",
    "#train cleaning\n",
    "housedatatrain.iloc[housedatatrain.loc[(housedatatrain['BsmtQual'].isnull()) & (housedatatrain['BsmtCond'].isnull())\n",
    "                  & (housedatatrain['BsmtExposure'].isnull())].index, \n",
    "                    [housedatatrain.columns.get_loc(c) for c in ['BsmtFinSF1', \"BsmtFinSF2\", \"BsmtUnfSF\", \"TotalBsmtSF\"]]] = 0\n",
    "\n",
    "\n",
    "housedatatrain.iloc[housedatatrain.loc[(housedatatrain['BsmtQual'].isnull()) & (housedatatrain['BsmtCond'].isnull())\n",
    "                  & (housedatatrain['BsmtExposure'].isnull())].index, \n",
    "                    [housedatatrain.columns.get_loc(c) for c in ['BsmtQual', \"BsmtCond\", \"BsmtExposure\", \"BsmtFinType1\",\n",
    "                                                                \"BsmtFinType2\"]]] = \"None\"\n",
    "\n",
    "\n",
    "\n",
    "\n",
    "\n",
    "#test cleaning\n",
    "housedatatest.iloc[housedatatest.loc[(housedatatest['BsmtQual'].isnull()) & (housedatatest['BsmtCond'].isnull())\n",
    "                  & (housedatatest['BsmtExposure'].isnull())].index, \n",
    "                    [housedatatest.columns.get_loc(c) for c in ['BsmtFinSF1', \"BsmtFinSF2\", \"BsmtUnfSF\", \"TotalBsmtSF\"]]] = 0\n",
    "\n",
    "\n",
    "\n",
    "\n",
    "housedatatest.iloc[housedatatest.loc[(housedatatest['BsmtQual'].isnull()) & (housedatatest['BsmtCond'].isnull())\n",
    "                  & (housedatatest['BsmtExposure'].isnull())].index, \n",
    "                    [housedatatest.columns.get_loc(c) for c in ['BsmtQual', \"BsmtCond\", \"BsmtExposure\", \"BsmtFinType1\",\n",
    "                                                                \"BsmtFinType2\"]]] = \"None\"\n",
    "\n",
    "\n",
    "#change the BsmtFullBath and BsmtHalfBath to 0 when TotalBsmtSF is 0\n",
    "\n",
    "#train cleaning\n",
    "housedatatrain.iloc[housedatatrain.loc[housedatatrain['BsmtFinSF2']==0].index, \n",
    "                    [housedatatest.columns.get_loc(c) for c in [\"BsmtFullBath\", \"BsmtHalfBath\"]]] = 0\n",
    "\n",
    "\n",
    "#test cleaning\n",
    "housedatatest.iloc[housedatatest.loc[housedatatest['BsmtFinSF2']==0].index, \n",
    "                   [housedatatest.columns.get_loc(c) for c in [\"BsmtFullBath\", \"BsmtHalfBath\"]]] = 0\n",
    "\n",
    "\n",
    "\n"
   ]
  },
  {
   "cell_type": "code",
   "execution_count": 9,
   "metadata": {},
   "outputs": [],
   "source": [
    "##########################clean garage variables#######################################################\n",
    "#clean up GarageType\n",
    "#if GarageType is NA, then GarageType goes to None\n",
    "housedatatrain[\"GarageType\"].fillna(\"None\", inplace = True)\n",
    "housedatatest[\"GarageType\"].fillna(\"None\", inplace = True)\n",
    "\n",
    "#if GarageArea is NA, then change GarageType to None\n",
    "housedatatrain.loc[housedatatrain[\"GarageArea\"].isnull(),\"GarageType\"] = \"None\"\n",
    "housedatatest.loc[housedatatest[\"GarageArea\"].isnull(),\"GarageType\"] = \"None\"\n",
    "\n",
    "#GarageCond, GarageQual, and GarageFinish\n",
    "\n",
    "#if GarageType is None, change GarageCond, GarageQual, and GaragaeFinish to None\n",
    "housedatatrain.iloc[housedatatrain.loc[housedatatrain['GarageType']==\"None\"].index, \n",
    "                     [housedatatrain.columns.get_loc(c) for c in ['GarageCond', \"GarageQual\", \"GarageFinish\"]]] = \"None\"\n",
    "\n",
    "housedatatest.iloc[housedatatest.loc[housedatatest['GarageType']==\"None\"].index, \n",
    "                     [housedatatest.columns.get_loc(c) for c in ['GarageCond', \"GarageQual\", \"GarageFinish\"]]] = \"None\"\n",
    "\n",
    "\n",
    "#GarageYear\n",
    "#Substitute YearBuilt for missing data in GarageYear\n",
    "##check this - does this make sense??\n",
    "housedatatrain[\"GarageYrBlt\"].fillna(housedatatrain[\"YearBuilt\"], inplace = True)\n",
    "housedatatest[\"GarageYrBlt\"].fillna(housedatatest[\"YearBuilt\"], inplace = True)\n",
    "\n",
    "#GarageArea\n",
    "#change NA values to 0\n",
    "\n",
    "housedatatrain[\"GarageArea\"].fillna(0, inplace = True)\n",
    "housedatatest[\"GarageArea\"].fillna(0, inplace = True)\n",
    "\n",
    "#GarageCars\n",
    "#change NA values to 0\n",
    "\n",
    "housedatatrain[\"GarageCars\"].fillna(0, inplace = True)\n",
    "housedatatest[\"GarageCars\"].fillna(0, inplace = True)\n",
    "\n",
    "\n",
    "\n",
    "\n",
    "\n"
   ]
  },
  {
   "cell_type": "code",
   "execution_count": 10,
   "metadata": {},
   "outputs": [],
   "source": [
    "#######################clean Pool variables#############################################\n",
    "\n",
    "#if Pool area is 0, then set PoolQc to None\n",
    "housedatatrain.loc[housedatatrain[\"PoolArea\"] == 0,'PoolQC'] = \"None\"\n",
    "housedatatest.loc[housedatatest[\"PoolArea\"] == 0,'PoolQC'] = \"None\"\n",
    "\n",
    "\n"
   ]
  },
  {
   "cell_type": "code",
   "execution_count": 11,
   "metadata": {},
   "outputs": [],
   "source": [
    "######################clean masonry variables##########################################\n",
    "#MasVnrArea if NaN, set to 0\n",
    "housedatatrain[\"MasVnrArea\"].fillna(0, inplace = True)\n",
    "housedatatest[\"MasVnrArea\"].fillna(0, inplace = True)\n",
    "\n",
    "#MasVnrType if MasVnrArea is 0, set to MasVnrType to \"None\"\n",
    "housedatatrain.iloc[housedatatrain.loc[housedatatrain['MasVnrArea']==0].index, \n",
    "                    housedatatrain.columns.get_loc(\"MasVnrType\")] = \"None\"\n",
    "\n",
    "housedatatest.iloc[housedatatest.loc[housedatatest['MasVnrArea']==0].index, \n",
    "                   housedatatest.columns.get_loc(\"MasVnrType\")] = \"None\"\n"
   ]
  },
  {
   "cell_type": "code",
   "execution_count": 12,
   "metadata": {},
   "outputs": [],
   "source": [
    "####################clean Alley variable################################################\n",
    "#MasVnrArea if NaN, set to None\n",
    "housedatatrain[\"Alley\"].fillna(\"None\", inplace = True)\n",
    "housedatatest[\"Alley\"].fillna(\"None\", inplace = True)\n",
    "\n",
    "\n",
    "\n"
   ]
  },
  {
   "cell_type": "code",
   "execution_count": 13,
   "metadata": {},
   "outputs": [],
   "source": [
    "####################clean FireplaceQu##################################################\n",
    "#if Fireplaces = 0, set FireplaceQu to None\n",
    "housedatatrain.iloc[housedatatrain.loc[housedatatrain['Fireplaces']==0].index, \n",
    "                    housedatatrain.columns.get_loc(\"FireplaceQu\")] = \"None\"\n",
    "\n",
    "housedatatest.iloc[housedatatest.loc[housedatatest['Fireplaces']==0].index, \n",
    "                   housedatatest.columns.get_loc(\"FireplaceQu\")] = \"None\"\n",
    "\n"
   ]
  },
  {
   "cell_type": "code",
   "execution_count": 14,
   "metadata": {},
   "outputs": [],
   "source": [
    "####################clean Fence##################################################\n",
    "housedatatrain[\"Fence\"].fillna(\"None\", inplace = True)\n",
    "housedatatest[\"Fence\"].fillna(\"None\", inplace = True)\n"
   ]
  },
  {
   "cell_type": "code",
   "execution_count": 15,
   "metadata": {},
   "outputs": [],
   "source": [
    "###############Clean Miscellaneous Features########################################\n",
    "housedatatrain[\"MiscFeature\"].fillna(\"None\", inplace = True)\n",
    "housedatatest[\"MiscFeature\"].fillna(\"None\", inplace = True)\n"
   ]
  },
  {
   "cell_type": "code",
   "execution_count": 17,
   "metadata": {},
   "outputs": [],
   "source": [
    "#some categorical columns should be numeric, and some numeric columns should be categorical\n",
    "housedatatrain = housedatatrain.replace({\"Alley\" : {\"Grvl\" : 1, \"Pave\" : 2},\n",
    "                       \"BsmtCond\" : {\"None\" : 0, \"Po\" : 1, \"Fa\" : 2, \"TA\" : 3, \"Gd\" : 4, \"Ex\" : 5},\n",
    "                       \"BsmtExposure\" : {\"None\" : 0, \"Mn\" : 1, \"Av\": 2, \"Gd\" : 3},\n",
    "                       \"BsmtFinType1\" : {\"None\" : 0, \"Unf\" : 1, \"LwQ\": 2, \"Rec\" : 3, \"BLQ\" : 4, \n",
    "                                         \"ALQ\" : 5, \"GLQ\" : 6},\n",
    "                       \"BsmtFinType2\" : {\"None\" : 0, \"Unf\" : 1, \"LwQ\": 2, \"Rec\" : 3, \"BLQ\" : 4, \n",
    "                                         \"ALQ\" : 5, \"GLQ\" : 6},\n",
    "                       \"BsmtQual\" : {\"None\" : 0, \"Po\" : 1, \"Fa\" : 2, \"TA\": 3, \"Gd\" : 4, \"Ex\" : 5},\n",
    "                       \"ExterCond\" : {\"Po\" : 1, \"Fa\" : 2, \"TA\": 3, \"Gd\": 4, \"Ex\" : 5},\n",
    "                       \"ExterQual\" : {\"Po\" : 1, \"Fa\" : 2, \"TA\": 3, \"Gd\": 4, \"Ex\" : 5},\n",
    "                       \"FireplaceQu\" : {\"None\" : 0, \"Po\" : 1, \"Fa\" : 2, \"TA\" : 3, \"Gd\" : 4, \"Ex\" : 5},\n",
    "                       \"Functional\" : {\"Sal\" : 1, \"Sev\" : 2, \"Maj2\" : 3, \"Maj1\" : 4, \"Mod\": 5, \n",
    "                                       \"Min2\" : 6, \"Min1\" : 7, \"Typ\" : 8},\n",
    "                       \"GarageCond\" : {\"None\" : 0, \"Po\" : 1, \"Fa\" : 2, \"TA\" : 3, \"Gd\" : 4, \"Ex\" : 5},\n",
    "                       \"GarageQual\" : {\"None\" : 0, \"Po\" : 1, \"Fa\" : 2, \"TA\" : 3, \"Gd\" : 4, \"Ex\" : 5},\n",
    "                       \"HeatingQC\" : {\"Po\" : 1, \"Fa\" : 2, \"TA\" : 3, \"Gd\" : 4, \"Ex\" : 5},\n",
    "                       \"KitchenQual\" : {\"Po\" : 1, \"Fa\" : 2, \"TA\" : 3, \"Gd\" : 4, \"Ex\" : 5},\n",
    "                       \"LandSlope\" : {\"Sev\" : 1, \"Mod\" : 2, \"Gtl\" : 3},\n",
    "                       \"LotShape\" : {\"IR3\" : 1, \"IR2\" : 2, \"IR1\" : 3, \"Reg\" : 4},\n",
    "                       \"PavedDrive\" : {\"N\" : 0, \"P\" : 1, \"Y\" : 2},\n",
    "                       \"PoolQC\" : {\"None\" : 0, \"Fa\" : 1, \"TA\" : 2, \"Gd\" : 3, \"Ex\" : 4},\n",
    "                       \"Street\" : {\"Grvl\" : 1, \"Pave\" : 2},\n",
    "                       \"Utilities\" : {\"ELO\" : 1, \"NoSeWa\" : 2, \"NoSewr\" : 3, \"AllPub\" : 4}}\n",
    "                     )\n",
    "\n",
    "housedatatest = housedatatest.replace({\"Alley\" : {\"Grvl\" : 1, \"Pave\" : 2},\n",
    "                       \"BsmtCond\" : {\"None\" : 0, \"Po\" : 1, \"Fa\" : 2, \"TA\" : 3, \"Gd\" : 4, \"Ex\" : 5},\n",
    "                       \"BsmtExposure\" : {\"None\" : 0, \"Mn\" : 1, \"Av\": 2, \"Gd\" : 3},\n",
    "                       \"BsmtFinType1\" : {\"None\" : 0, \"Unf\" : 1, \"LwQ\": 2, \"Rec\" : 3, \"BLQ\" : 4, \n",
    "                                         \"ALQ\" : 5, \"GLQ\" : 6},\n",
    "                       \"BsmtFinType2\" : {\"None\" : 0, \"Unf\" : 1, \"LwQ\": 2, \"Rec\" : 3, \"BLQ\" : 4, \n",
    "                                         \"ALQ\" : 5, \"GLQ\" : 6},\n",
    "                       \"BsmtQual\" : {\"None\" : 0, \"Po\" : 1, \"Fa\" : 2, \"TA\": 3, \"Gd\" : 4, \"Ex\" : 5},\n",
    "                       \"ExterCond\" : {\"Po\" : 1, \"Fa\" : 2, \"TA\": 3, \"Gd\": 4, \"Ex\" : 5},\n",
    "                       \"ExterQual\" : {\"Po\" : 1, \"Fa\" : 2, \"TA\": 3, \"Gd\": 4, \"Ex\" : 5},\n",
    "                       \"FireplaceQu\" : {\"None\" : 0, \"Po\" : 1, \"Fa\" : 2, \"TA\" : 3, \"Gd\" : 4, \"Ex\" : 5},\n",
    "                       \"Functional\" : {\"Sal\" : 1, \"Sev\" : 2, \"Maj2\" : 3, \"Maj1\" : 4, \"Mod\": 5, \n",
    "                                       \"Min2\" : 6, \"Min1\" : 7, \"Typ\" : 8},\n",
    "                       \"GarageCond\" : {\"None\" : 0, \"Po\" : 1, \"Fa\" : 2, \"TA\" : 3, \"Gd\" : 4, \"Ex\" : 5},\n",
    "                       \"GarageQual\" : {\"None\" : 0, \"Po\" : 1, \"Fa\" : 2, \"TA\" : 3, \"Gd\" : 4, \"Ex\" : 5},\n",
    "                       \"HeatingQC\" : {\"Po\" : 1, \"Fa\" : 2, \"TA\" : 3, \"Gd\" : 4, \"Ex\" : 5},\n",
    "                       \"KitchenQual\" : {\"Po\" : 1, \"Fa\" : 2, \"TA\" : 3, \"Gd\" : 4, \"Ex\" : 5},\n",
    "                       \"LandSlope\" : {\"Sev\" : 1, \"Mod\" : 2, \"Gtl\" : 3},\n",
    "                       \"LotShape\" : {\"IR3\" : 1, \"IR2\" : 2, \"IR1\" : 3, \"Reg\" : 4},\n",
    "                       \"PavedDrive\" : {\"N\" : 0, \"P\" : 1, \"Y\" : 2},\n",
    "                       \"PoolQC\" : {\"None\" : 0, \"Fa\" : 1, \"TA\" : 2, \"Gd\" : 3, \"Ex\" : 4},\n",
    "                       \"Street\" : {\"Grvl\" : 1, \"Pave\" : 2},\n",
    "                       \"Utilities\" : {\"ELO\" : 1, \"NoSeWa\" : 2, \"NoSewr\" : 3, \"AllPub\" : 4}}\n",
    "                     )\n",
    "\n",
    "housedatatrain = housedatatrain.replace({\"MSSubClass\" : {20 : \"SC20\", 30 : \"SC30\", 40 : \"SC40\", 45 : \"SC45\", \n",
    "                                       50 : \"SC50\", 60 : \"SC60\", 70 : \"SC70\", 75 : \"SC75\", \n",
    "                                       80 : \"SC80\", 85 : \"SC85\", 90 : \"SC90\", 120 : \"SC120\", \n",
    "                                       150 : \"SC150\", 160 : \"SC160\", 180 : \"SC180\", 190 : \"SC190\"},\n",
    "                       \"MoSold\" : {1 : \"Jan\", 2 : \"Feb\", 3 : \"Mar\", 4 : \"Apr\", 5 : \"May\", 6 : \"Jun\",\n",
    "                                   7 : \"Jul\", 8 : \"Aug\", 9 : \"Sep\", 10 : \"Oct\", 11 : \"Nov\", 12 : \"Dec\"}\n",
    "                      })\n",
    "\n",
    "housedatatest = housedatatest.replace({\"MSSubClass\" : {20 : \"SC20\", 30 : \"SC30\", 40 : \"SC40\", 45 : \"SC45\", \n",
    "                                       50 : \"SC50\", 60 : \"SC60\", 70 : \"SC70\", 75 : \"SC75\", \n",
    "                                       80 : \"SC80\", 85 : \"SC85\", 90 : \"SC90\", 120 : \"SC120\", \n",
    "                                       150 : \"SC150\", 160 : \"SC160\", 180 : \"SC180\", 190 : \"SC190\"},\n",
    "                       \"MoSold\" : {1 : \"Jan\", 2 : \"Feb\", 3 : \"Mar\", 4 : \"Apr\", 5 : \"May\", 6 : \"Jun\",\n",
    "                                   7 : \"Jul\", 8 : \"Aug\", 9 : \"Sep\", 10 : \"Oct\", 11 : \"Nov\", 12 : \"Dec\"}\n",
    "                      })\n"
   ]
  },
  {
   "cell_type": "code",
   "execution_count": 18,
   "metadata": {},
   "outputs": [],
   "source": [
    "#remove outliers from train set - 4 datapoints with square feet above 4000\n",
    "housedatatrain = housedatatrain.loc[housedatatrain['GrLivArea'] < 4000, :]\n",
    "\n",
    "\n",
    "\n"
   ]
  },
  {
   "cell_type": "code",
   "execution_count": 20,
   "metadata": {},
   "outputs": [],
   "source": [
    "\n",
    "\n",
    "\n",
    "#Write the cleaned data back to a csv file\n",
    "housedatatrain.to_csv ('./traincleaned.csv', index = None, header=True)\n",
    "housedatatest.to_csv ('./testcleaned.csv', index = None, header=True)\n",
    "\n"
   ]
  },
  {
   "cell_type": "code",
   "execution_count": 3,
   "metadata": {},
   "outputs": [
    {
     "data": {
      "image/png": "[encoded data removed]",
      "text/plain": [
       "<Figure size 864x288 with 1 Axes>"
      ]
     },
     "metadata": {
      "needs_background": "light"
     },
     "output_type": "display_data"
    }
   ],
   "source": [
    "plt.figure(figsize=(12,4))\n",
    "plt.subplot(1,2,1)\n",
    "sns.distplot(SalePrice, fit=stats.norm);\n",
    "#plt.subplot(1,2,2)\n",
    "#_=stats.probplot(SalePrice, plot=plt)"
   ]
  },
  {
   "cell_type": "code",
   "execution_count": 4,
   "metadata": {},
   "outputs": [
    {
     "data": {
      "image/png": "[encoded data removed]",
      "text/plain": [
       "<Figure size 864x288 with 1 Axes>"
      ]
     },
     "metadata": {
      "needs_background": "light"
     },
     "output_type": "display_data"
    }
   ],
   "source": [
    "plt.figure(figsize=(12,4))\n",
    "plt.subplot(1,2,1)\n",
    "sns.distplot(np.log(SalePrice), fit=stats.norm);"
   ]
  }
 ],
 "metadata": {
  "kernelspec": {
   "display_name": "Python 3",
   "language": "python",
   "name": "python3"
  },
  "language_info": {
   "codemirror_mode": {
    "name": "ipython",
    "version": 3
   },
   "file_extension": ".py",
   "mimetype": "text/x-python",
   "name": "python",
   "nbconvert_exporter": "python",
   "pygments_lexer": "ipython3",
   "version": "3.7.3"
  }
 },
 "nbformat": 4,
 "nbformat_minor": 2
}
