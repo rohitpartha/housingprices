{
 "cells": [
  {
   "cell_type": "code",
   "execution_count": 1,
   "metadata": {},
   "outputs": [],
   "source": [
    "#Custom TypeSelector class to separate categorical and numerical columns\n",
    "\n",
    "\n",
    "import numpy as np \n",
    "import pandas as pd\n",
    "from sklearn.base import BaseEstimator, TransformerMixin\n",
    "from sklearn.preprocessing import OneHotEncoder, StandardScaler\n",
    "from sklearn.impute import SimpleImputer\n",
    "from sklearn.pipeline import FeatureUnion, Pipeline \n",
    "import matplotlib\n",
    "%matplotlib inline\n",
    "\n",
    "class TypeSelector(BaseEstimator, TransformerMixin):\n",
    "    def __init__(self, dtype):\n",
    "        self.dtype = dtype\n",
    "        self.column_names = []\n",
    "\n",
    "    def fit(self, X, y=None):\n",
    "        return self\n",
    "\n",
    "    def transform(self, X):\n",
    "        assert isinstance(X, pd.DataFrame)\n",
    "        self.column_names = X.select_dtypes(include=[self.dtype]).columns.tolist()\n",
    "        return X.select_dtypes(include=[self.dtype])   \n",
    "    \n",
    "    def get_feature_names(self):\n",
    "        return self.column_names\n",
    "    \n",
    "\n",
    "    "
   ]
  },
  {
   "cell_type": "code",
   "execution_count": 2,
   "metadata": {},
   "outputs": [],
   "source": [
    "traindata = pd.read_csv(\"./traincleaned.csv\")\n",
    "\n",
    "#traindata.dtypes\n",
    "#dtypes are object, int64, and float64\n",
    "\n",
    "#ts = TypeSelector(np.number)\n",
    "#ts.fit_transform(traindata)\n",
    "\n",
    "#separate the house price from the other data\n",
    "\n",
    "X = traindata.drop(['SalePrice', 'Id'], axis = 1)\n",
    "#You can covert the target variable to numpy \n",
    "y = traindata['SalePrice'].values \n",
    "\n",
    "#convert SalePrice using log transform\n",
    "#y = np.log(y)\n",
    "\n",
    "\n",
    "\n"
   ]
  },
  {
   "cell_type": "code",
   "execution_count": 3,
   "metadata": {},
   "outputs": [],
   "source": [
    "#steps in the categorical pipeline \n",
    "categorical_pipeline = Pipeline( steps = [ ( 'cat_selector', TypeSelector(\"object\") ), \n",
    "                                          ('imputer', SimpleImputer(strategy=\"most_frequent\")),\n",
    "                                  ( 'one_hot_encoder', OneHotEncoder( sparse = False, handle_unknown = 'ignore' ) ) ] )\n",
    "    \n",
    "#Defining the steps in the numerical pipeline     \n",
    "numerical_pipeline = Pipeline( steps = [ ( 'num_selector', TypeSelector(np.number) ),\n",
    "                                  ('imputer', SimpleImputer(strategy = 'median') ),\n",
    "                                   ( 'std_scaler', StandardScaler() )      \n",
    "                                   ] )\n",
    "\n",
    "#Combining numerical and categorical piepline into one full big pipeline horizontally \n",
    "#using FeatureUnion\n",
    "preprocess_pipeline = FeatureUnion( transformer_list = [ ( 'categorical_pipeline', categorical_pipeline ), \n",
    "                                                  \n",
    "                                                  ( 'numerical_pipeline', numerical_pipeline ) ] )"
   ]
  },
  {
   "cell_type": "code",
   "execution_count": 15,
   "metadata": {},
   "outputs": [
    {
     "name": "stdout",
     "output_type": "stream",
     "text": [
      "['x0_SC120' 'x0_SC160' 'x0_SC180' 'x0_SC190' 'x0_SC20' 'x0_SC30' 'x0_SC40'\n",
      " 'x0_SC45' 'x0_SC50' 'x0_SC60' 'x0_SC70' 'x0_SC75' 'x0_SC80' 'x0_SC85'\n",
      " 'x0_SC90' 'x1_C (all)' 'x1_FV' 'x1_RH' 'x1_RL' 'x1_RM' 'x2_1' 'x2_2'\n",
      " 'x2_None' 'x3_Bnk' 'x3_HLS' 'x3_Low' 'x3_Lvl' 'x4_Corner' 'x4_CulDSac'\n",
      " 'x4_FR2' 'x4_FR3' 'x4_Inside' 'x5_Blmngtn' 'x5_Blueste' 'x5_BrDale'\n",
      " 'x5_BrkSide' 'x5_ClearCr' 'x5_CollgCr' 'x5_Crawfor' 'x5_Edwards'\n",
      " 'x5_Gilbert' 'x5_IDOTRR' 'x5_MeadowV' 'x5_Mitchel' 'x5_NAmes'\n",
      " 'x5_NPkVill' 'x5_NWAmes' 'x5_NoRidge' 'x5_NridgHt' 'x5_OldTown'\n",
      " 'x5_SWISU' 'x5_Sawyer' 'x5_SawyerW' 'x5_Somerst' 'x5_StoneBr' 'x5_Timber'\n",
      " 'x5_Veenker' 'x6_Artery' 'x6_Feedr' 'x6_Norm' 'x6_PosA' 'x6_PosN'\n",
      " 'x6_RRAe' 'x6_RRAn' 'x6_RRNe' 'x6_RRNn' 'x7_Artery' 'x7_Feedr' 'x7_Norm'\n",
      " 'x7_PosA' 'x7_PosN' 'x7_RRAe' 'x7_RRAn' 'x7_RRNn' 'x8_1Fam' 'x8_2fmCon'\n",
      " 'x8_Duplex' 'x8_Twnhs' 'x8_TwnhsE' 'x9_1.5Fin' 'x9_1.5Unf' 'x9_1Story'\n",
      " 'x9_2.5Fin' 'x9_2.5Unf' 'x9_2Story' 'x9_SFoyer' 'x9_SLvl' 'x10_Flat'\n",
      " 'x10_Gable' 'x10_Gambrel' 'x10_Hip' 'x10_Mansard' 'x10_Shed'\n",
      " 'x11_CompShg' 'x11_Membran' 'x11_Metal' 'x11_Roll' 'x11_Tar&Grv'\n",
      " 'x11_WdShake' 'x11_WdShngl' 'x12_AsbShng' 'x12_AsphShn' 'x12_BrkComm'\n",
      " 'x12_BrkFace' 'x12_CBlock' 'x12_CemntBd' 'x12_HdBoard' 'x12_ImStucc'\n",
      " 'x12_MetalSd' 'x12_Plywood' 'x12_Stone' 'x12_Stucco' 'x12_VinylSd'\n",
      " 'x12_Wd Sdng' 'x12_WdShing' 'x13_AsbShng' 'x13_AsphShn' 'x13_Brk Cmn'\n",
      " 'x13_BrkFace' 'x13_CBlock' 'x13_CmentBd' 'x13_HdBoard' 'x13_ImStucc'\n",
      " 'x13_MetalSd' 'x13_Other' 'x13_Plywood' 'x13_Stone' 'x13_Stucco'\n",
      " 'x13_VinylSd' 'x13_Wd Sdng' 'x13_Wd Shng' 'x14_BrkCmn' 'x14_BrkFace'\n",
      " 'x14_None' 'x14_Stone' 'x15_BrkTil' 'x15_CBlock' 'x15_PConc' 'x15_Slab'\n",
      " 'x15_Stone' 'x15_Wood' 'x16_0' 'x16_1' 'x16_2' 'x16_3' 'x16_No'\n",
      " 'x17_Floor' 'x17_GasA' 'x17_GasW' 'x17_Grav' 'x17_OthW' 'x17_Wall'\n",
      " 'x18_N' 'x18_Y' 'x19_FuseA' 'x19_FuseF' 'x19_FuseP' 'x19_Mix' 'x19_SBrkr'\n",
      " 'x20_2Types' 'x20_Attchd' 'x20_Basment' 'x20_BuiltIn' 'x20_CarPort'\n",
      " 'x20_Detchd' 'x20_None' 'x21_Fin' 'x21_None' 'x21_RFn' 'x21_Unf'\n",
      " 'x22_GdPrv' 'x22_GdWo' 'x22_MnPrv' 'x22_MnWw' 'x22_None' 'x23_Gar2'\n",
      " 'x23_None' 'x23_Othr' 'x23_Shed' 'x23_TenC' 'x24_Apr' 'x24_Aug' 'x24_Dec'\n",
      " 'x24_Feb' 'x24_Jan' 'x24_Jul' 'x24_Jun' 'x24_Mar' 'x24_May' 'x24_Nov'\n",
      " 'x24_Oct' 'x24_Sep' 'x25_COD' 'x25_CWD' 'x25_Con' 'x25_ConLD' 'x25_ConLI'\n",
      " 'x25_ConLw' 'x25_New' 'x25_Oth' 'x25_WD' 'x26_Abnorml' 'x26_AdjLand'\n",
      " 'x26_Alloca' 'x26_Family' 'x26_Normal' 'x26_Partial']\n",
      "['LotFrontage', 'LotArea', 'Street', 'LotShape', 'Utilities', 'LandSlope', 'OverallQual', 'OverallCond', 'YearBuilt', 'YearRemodAdd', 'MasVnrArea', 'ExterQual', 'ExterCond', 'BsmtQual', 'BsmtCond', 'BsmtFinType1', 'BsmtFinSF1', 'BsmtFinType2', 'BsmtFinSF2', 'BsmtUnfSF', 'TotalBsmtSF', 'HeatingQC', '1stFlrSF', '2ndFlrSF', 'LowQualFinSF', 'GrLivArea', 'BsmtFullBath', 'BsmtHalfBath', 'FullBath', 'HalfBath', 'BedroomAbvGr', 'KitchenAbvGr', 'KitchenQual', 'TotRmsAbvGrd', 'Functional', 'Fireplaces', 'FireplaceQu', 'GarageYrBlt', 'GarageCars', 'GarageArea', 'GarageQual', 'GarageCond', 'PavedDrive', 'WoodDeckSF', 'OpenPorchSF', 'EnclosedPorch', '3SsnPorch', 'ScreenPorch', 'PoolArea', 'PoolQC', 'MiscVal', 'YrSold']\n"
     ]
    },
    {
     "data": {
      "text/plain": [
       "52"
      ]
     },
     "execution_count": 15,
     "metadata": {},
     "output_type": "execute_result"
    }
   ],
   "source": [
    "X_transformed = preprocess_pipeline.fit_transform(X)\n",
    "ohe = categorical_pipeline.named_steps['one_hot_encoder']\n",
    "print(ohe.get_feature_names())\n",
    "\n",
    "imput = numerical_pipeline.named_steps['num_selector']\n",
    "print(imput.get_feature_names())\n",
    "\n",
    "ohe.get_feature_names().shape\n",
    "len(imput.get_feature_names())"
   ]
  },
  {
   "cell_type": "code",
   "execution_count": 48,
   "metadata": {},
   "outputs": [
    {
     "name": "stdout",
     "output_type": "stream",
     "text": [
      "(1456, 260)\n",
      "[[   0.    0.    0. ...    0.    0. 2008.]\n",
      " [   0.    0.    0. ...    0.    0. 2007.]\n",
      " [   0.    0.    0. ...    0.    0. 2008.]\n",
      " ...\n",
      " [   0.    0.    0. ...    0. 2500. 2010.]\n",
      " [   0.    0.    0. ...    0.    0. 2010.]\n",
      " [   0.    0.    0. ...    0.    0. 2008.]]\n"
     ]
    }
   ],
   "source": [
    "print(X_transformed.shape)\n",
    "print(X_transformed)"
   ]
  },
  {
   "cell_type": "code",
   "execution_count": 4,
   "metadata": {},
   "outputs": [
    {
     "name": "stdout",
     "output_type": "stream",
     "text": [
      "train set: (1164, 79)\n",
      "test set: (1164,)\n",
      "train set: (292, 79)\n",
      "test set: (292,)\n"
     ]
    }
   ],
   "source": [
    "#train test split\n",
    "\n",
    "from sklearn.model_selection import train_test_split\n",
    "\n",
    "x_train, x_test, y_train, y_test = train_test_split(X, y, test_size = .2, shuffle = True,random_state = 1) \n",
    "                                                    \n",
    "\n",
    "\n",
    "print('train set:', x_train.shape)\n",
    "print('test set:', y_train.shape)\n",
    "print('train set:', x_test.shape)\n",
    "print('test set:', y_test.shape)\n",
    "\n",
    "\n"
   ]
  },
  {
   "cell_type": "markdown",
   "metadata": {},
   "source": [
    "# Lasso Reg model"
   ]
  },
  {
   "cell_type": "code",
   "execution_count": 5,
   "metadata": {},
   "outputs": [
    {
     "name": "stdout",
     "output_type": "stream",
     "text": [
      "Fitting 5 folds for each of 5 candidates, totalling 25 fits\n"
     ]
    },
    {
     "name": "stderr",
     "output_type": "stream",
     "text": [
      "[Parallel(n_jobs=1)]: Using backend SequentialBackend with 1 concurrent workers.\n",
      "[Parallel(n_jobs=1)]: Done  25 out of  25 | elapsed:    3.7s finished\n"
     ]
    },
    {
     "data": {
      "text/plain": [
       "GridSearchCV(cv=5, error_score='raise-deprecating',\n",
       "             estimator=Pipeline(memory=None,\n",
       "                                steps=[('prepare',\n",
       "                                        FeatureUnion(n_jobs=None,\n",
       "                                                     transformer_list=[('categorical_pipeline',\n",
       "                                                                        Pipeline(memory=None,\n",
       "                                                                                 steps=[('cat_selector',\n",
       "                                                                                         TypeSelector(dtype='object')),\n",
       "                                                                                        ('imputer',\n",
       "                                                                                         SimpleImputer(add_indicator=False,\n",
       "                                                                                                       copy=True,\n",
       "                                                                                                       fill_value=None,\n",
       "                                                                                                       missing_values=nan,\n",
       "                                                                                                       strategy='most_frequ...\n",
       "                                              fit_intercept=True, max_iter=1000,\n",
       "                                              normalize=False, positive=False,\n",
       "                                              precompute=False,\n",
       "                                              random_state=None,\n",
       "                                              selection='cyclic', tol=0.0001,\n",
       "                                              warm_start=False))],\n",
       "                                verbose=False),\n",
       "             iid='warn', n_jobs=None,\n",
       "             param_grid=[{'predict__alpha': [10, 1, 0.1, 0.001, 0.0005]}],\n",
       "             pre_dispatch='2*n_jobs', refit=True, return_train_score=False,\n",
       "             scoring=make_scorer(mean_squared_error, greater_is_better=False),\n",
       "             verbose=1)"
      ]
     },
     "execution_count": 5,
     "metadata": {},
     "output_type": "execute_result"
    }
   ],
   "source": [
    "from sklearn.linear_model import Lasso, LassoCV\n",
    "from sklearn.metrics import mean_squared_error, make_scorer\n",
    "from sklearn.model_selection import GridSearchCV\n",
    "\n",
    "scorer = make_scorer(mean_squared_error, greater_is_better=False)\n",
    "\n",
    "lasso_reg = Lasso()\n",
    "\n",
    "prepare_predict_pipeline = Pipeline([\n",
    "    ('prepare', preprocess_pipeline),\n",
    "    ('predict', lasso_reg),\n",
    "])\n",
    "\n",
    "params = [\n",
    "    {\n",
    "        'predict__alpha':[10, 1, 0.1, 0.001,0.0005]\n",
    "    }\n",
    "]\n",
    "\n",
    "grid_search = GridSearchCV(prepare_predict_pipeline, param_grid=params, scoring=scorer, cv = 5, verbose=1)\n",
    "grid_search.fit(x_train, np.log(y_train))\n",
    "\n",
    "\n",
    "\n",
    "\n"
   ]
  },
  {
   "cell_type": "markdown",
   "metadata": {},
   "source": [
    "# Lasso Reg results"
   ]
  },
  {
   "cell_type": "code",
   "execution_count": 6,
   "metadata": {},
   "outputs": [
    {
     "data": {
      "text/plain": [
       "[(0.39119473548888123, 0.009399451824531892, {'predict__alpha': 10}),\n",
       " (0.39119473548888123, 0.009399451824531892, {'predict__alpha': 1}),\n",
       " (0.20678823383040826, 0.005245886275674108, {'predict__alpha': 0.1}),\n",
       " (0.11226393524253434, 0.003082974400011466, {'predict__alpha': 0.001}),\n",
       " (0.11119299787412419, 0.0026642745010787157, {'predict__alpha': 0.0005})]"
      ]
     },
     "execution_count": 6,
     "metadata": {},
     "output_type": "execute_result"
    }
   ],
   "source": [
    "cvres = grid_search.cv_results_\n",
    "cvres\n",
    "\n",
    "[(np.sqrt(-score), stddev, para) for score, stddev, para in zip(cvres['mean_test_score'], cvres['std_test_score'], cvres['params'])]"
   ]
  },
  {
   "cell_type": "code",
   "execution_count": 17,
   "metadata": {},
   "outputs": [
    {
     "name": "stdout",
     "output_type": "stream",
     "text": [
      "result on test set: 0.11640163502901037\n"
     ]
    }
   ],
   "source": [
    "categorical_names = grid_search.best_estimator_.named_steps['prepare'].get_params()['categorical_pipeline'].named_steps['one_hot_encoder'].get_feature_names()\n",
    "numerical_names = np.array(grid_search.best_estimator_.named_steps['prepare'].get_params()['numerical_pipeline'].named_steps['num_selector'].get_feature_names())\n",
    "feature_names = np.concatenate((categorical_names, numerical_names))\n",
    "pred = grid_search.best_estimator_.predict(x_test)\n",
    "print('result on test set:' ,np.sqrt(mean_squared_error(np.log(y_test), pred)))"
   ]
  },
  {
   "cell_type": "code",
   "execution_count": 9,
   "metadata": {},
   "outputs": [
    {
     "name": "stdout",
     "output_type": "stream",
     "text": [
      "Lasso picked 106 variables and eliminated the other 151 variables\n"
     ]
    }
   ],
   "source": [
    "\n",
    "\n",
    "coef = pd.Series(grid_search.best_estimator_.named_steps['predict'].coef_, index = feature_names)\n",
    "print(\"Lasso picked \" + str(sum(coef != 0)) + \" variables and eliminated the other \" +  str(sum(coef == 0)) + \" variables\")"
   ]
  },
  {
   "cell_type": "code",
   "execution_count": 21,
   "metadata": {},
   "outputs": [
    {
     "data": {
      "text/plain": [
       "Text(0.5, 1.0, 'Coefficients in the Lasso Model')"
      ]
     },
     "execution_count": 21,
     "metadata": {},
     "output_type": "execute_result"
    },
    {
     "data": {
      "image/png": "[encoded data removed]",
      "text/plain": [
       "<Figure size 576x720 with 1 Axes>"
      ]
     },
     "metadata": {
      "needs_background": "light"
     },
     "output_type": "display_data"
    }
   ],
   "source": [
    "import matplotlib\n",
    "import matplotlib.pyplot as plt\n",
    "%matplotlib inline\n",
    "imp_coef = pd.concat([coef.sort_values().head(10),\n",
    "                     coef.sort_values().tail(10)])\n",
    "matplotlib.rcParams['figure.figsize'] = (8.0, 10.0)\n",
    "imp_coef.plot(kind = \"barh\")\n",
    "plt.title(\"Coefficients in the Lasso Model\")"
   ]
  },
  {
   "cell_type": "code",
   "execution_count": null,
   "metadata": {},
   "outputs": [],
   "source": []
  },
  {
   "cell_type": "markdown",
   "metadata": {},
   "source": [
    "\n",
    "# Ridge regression"
   ]
  },
  {
   "cell_type": "code",
   "execution_count": 23,
   "metadata": {},
   "outputs": [
    {
     "name": "stdout",
     "output_type": "stream",
     "text": [
      "Fitting 5 folds for each of 5 candidates, totalling 25 fits\n"
     ]
    },
    {
     "name": "stderr",
     "output_type": "stream",
     "text": [
      "[Parallel(n_jobs=1)]: Using backend SequentialBackend with 1 concurrent workers.\n",
      "[Parallel(n_jobs=1)]: Done  25 out of  25 | elapsed:    3.0s finished\n"
     ]
    },
    {
     "data": {
      "text/plain": [
       "GridSearchCV(cv=5, error_score='raise-deprecating',\n",
       "             estimator=Pipeline(memory=None,\n",
       "                                steps=[('prepare',\n",
       "                                        FeatureUnion(n_jobs=None,\n",
       "                                                     transformer_list=[('categorical_pipeline',\n",
       "                                                                        Pipeline(memory=None,\n",
       "                                                                                 steps=[('cat_selector',\n",
       "                                                                                         TypeSelector(dtype='object')),\n",
       "                                                                                        ('imputer',\n",
       "                                                                                         SimpleImputer(add_indicator=False,\n",
       "                                                                                                       copy=True,\n",
       "                                                                                                       fill_value=None,\n",
       "                                                                                                       missing_values=nan,\n",
       "                                                                                                       strategy='most_frequ...\n",
       "                                        Ridge(alpha=1.0, copy_X=True,\n",
       "                                              fit_intercept=True, max_iter=None,\n",
       "                                              normalize=False,\n",
       "                                              random_state=None, solver='auto',\n",
       "                                              tol=0.001))],\n",
       "                                verbose=False),\n",
       "             iid='warn', n_jobs=None,\n",
       "             param_grid=[{'predict__alpha': [10, 1, 0.1, 0.001, 0.0005]}],\n",
       "             pre_dispatch='2*n_jobs', refit=True, return_train_score=False,\n",
       "             scoring=make_scorer(mean_squared_error, greater_is_better=False),\n",
       "             verbose=1)"
      ]
     },
     "execution_count": 23,
     "metadata": {},
     "output_type": "execute_result"
    }
   ],
   "source": [
    "from sklearn.linear_model import Ridge\n",
    "\n",
    "ridge_reg = Ridge()\n",
    "\n",
    "prepare_predict_pipeline = Pipeline([\n",
    "    ('prepare', preprocess_pipeline),\n",
    "    ('predict', ridge_reg),\n",
    "])\n",
    "\n",
    "params = [\n",
    "    {\n",
    "        'predict__alpha':[10, 1, 0.1, 0.001,0.0005]\n",
    "    }\n",
    "]\n",
    "\n",
    "grid_search = GridSearchCV(prepare_predict_pipeline, param_grid=params, scoring=scorer, cv = 5, verbose=1)\n",
    "grid_search.fit(x_train, np.log(y_train))"
   ]
  },
  {
   "cell_type": "code",
   "execution_count": 26,
   "metadata": {},
   "outputs": [
    {
     "data": {
      "text/plain": [
       "[(0.11470985567245902, 0.002719336495523738, {'predict__alpha': 10}),\n",
       " (0.11728501185138117, 0.002384602364893191, {'predict__alpha': 1}),\n",
       " (0.12241696807533343, 0.0023201803068206993, {'predict__alpha': 0.1}),\n",
       " (0.1252099137105652, 0.002165470256557537, {'predict__alpha': 0.001}),\n",
       " (0.1252706341534694, 0.002160596416739806, {'predict__alpha': 0.0005})]"
      ]
     },
     "execution_count": 26,
     "metadata": {},
     "output_type": "execute_result"
    }
   ],
   "source": [
    "cvres = grid_search.cv_results_\n",
    "cvres\n",
    "\n",
    "[(np.sqrt(-score), stddev, para) for score, stddev, para in zip(cvres['mean_test_score'], cvres['std_test_score'], cvres['params'])]"
   ]
  },
  {
   "cell_type": "code",
   "execution_count": 27,
   "metadata": {},
   "outputs": [
    {
     "data": {
      "text/plain": [
       "Text(0.5, 1.0, 'Coefficients in the Ridge Model')"
      ]
     },
     "execution_count": 27,
     "metadata": {},
     "output_type": "execute_result"
    },
    {
     "data": {
      "image/png": "[encoded data removed]",
      "text/plain": [
       "<Figure size 576x720 with 1 Axes>"
      ]
     },
     "metadata": {
      "needs_background": "light"
     },
     "output_type": "display_data"
    }
   ],
   "source": [
    "\n",
    "\n",
    "coef = pd.Series(grid_search.best_estimator_.named_steps['predict'].coef_, index = feature_names)\n",
    "imp_coef = pd.concat([coef.sort_values().head(10),\n",
    "                     coef.sort_values().tail(10)])\n",
    "matplotlib.rcParams['figure.figsize'] = (8.0, 10.0)\n",
    "imp_coef.plot(kind = \"barh\")\n",
    "plt.title(\"Coefficients in the Ridge Model\")"
   ]
  },
  {
   "cell_type": "code",
   "execution_count": 28,
   "metadata": {},
   "outputs": [
    {
     "name": "stdout",
     "output_type": "stream",
     "text": [
      "result on test set: 0.11888848516610939\n"
     ]
    }
   ],
   "source": [
    "pred = grid_search.best_estimator_.predict(x_test)\n",
    "print('result on test set:' ,np.sqrt(mean_squared_error(np.log(y_test), pred)))"
   ]
  },
  {
   "cell_type": "markdown",
   "metadata": {},
   "source": [
    "# Elastic net"
   ]
  },
  {
   "cell_type": "code",
   "execution_count": 7,
   "metadata": {},
   "outputs": [
    {
     "name": "stdout",
     "output_type": "stream",
     "text": [
      "Fitting 5 folds for each of 45 candidates, totalling 225 fits\n"
     ]
    },
    {
     "name": "stderr",
     "output_type": "stream",
     "text": [
      "[Parallel(n_jobs=1)]: Using backend SequentialBackend with 1 concurrent workers.\n",
      "[Parallel(n_jobs=1)]: Done 225 out of 225 | elapsed:   34.0s finished\n"
     ]
    },
    {
     "data": {
      "text/plain": [
       "GridSearchCV(cv=5, error_score='raise-deprecating',\n",
       "             estimator=Pipeline(memory=None,\n",
       "                                steps=[('prepare',\n",
       "                                        FeatureUnion(n_jobs=None,\n",
       "                                                     transformer_list=[('categorical_pipeline',\n",
       "                                                                        Pipeline(memory=None,\n",
       "                                                                                 steps=[('cat_selector',\n",
       "                                                                                         TypeSelector(dtype='object')),\n",
       "                                                                                        ('imputer',\n",
       "                                                                                         SimpleImputer(add_indicator=False,\n",
       "                                                                                                       copy=True,\n",
       "                                                                                                       fill_value=None,\n",
       "                                                                                                       missing_values=nan,\n",
       "                                                                                                       strategy='most_frequ...\n",
       "                                                   tol=0.0001,\n",
       "                                                   warm_start=False))],\n",
       "                                verbose=False),\n",
       "             iid='warn', n_jobs=None,\n",
       "             param_grid=[{'predict__alpha': [10, 1, 0.1, 0.001, 0.0005],\n",
       "                          'predict__l1_ratio': array([0.1, 0.2, 0.3, 0.4, 0.5, 0.6, 0.7, 0.8, 0.9]),\n",
       "                          'predict__max_iter': [100000]}],\n",
       "             pre_dispatch='2*n_jobs', refit=True, return_train_score=False,\n",
       "             scoring=make_scorer(mean_squared_error, greater_is_better=False),\n",
       "             verbose=1)"
      ]
     },
     "execution_count": 7,
     "metadata": {},
     "output_type": "execute_result"
    }
   ],
   "source": [
    "from sklearn.linear_model import ElasticNet\n",
    "\n",
    "elasticnet_reg = ElasticNet()\n",
    "\n",
    "prepare_predict_pipeline = Pipeline([\n",
    "    ('prepare', preprocess_pipeline),\n",
    "    ('predict', elasticnet_reg),\n",
    "])\n",
    "\n",
    "params = [\n",
    "    {\n",
    "        'predict__alpha': [10, 1, 0.1, 0.001,0.0005],\n",
    "              'predict__l1_ratio': np.arange(0.1,1.0,0.1),\n",
    "              'predict__max_iter':[100000]\n",
    "    }\n",
    "]\n",
    "\n",
    "grid_search = GridSearchCV(prepare_predict_pipeline, param_grid=params, scoring=scorer, cv = 5, verbose=1)\n",
    "grid_search.fit(x_train, np.log(y_train))"
   ]
  },
  {
   "cell_type": "code",
   "execution_count": 15,
   "metadata": {},
   "outputs": [
    {
     "data": {
      "text/plain": [
       "Pipeline(memory=None,\n",
       "         steps=[('prepare',\n",
       "                 FeatureUnion(n_jobs=None,\n",
       "                              transformer_list=[('categorical_pipeline',\n",
       "                                                 Pipeline(memory=None,\n",
       "                                                          steps=[('cat_selector',\n",
       "                                                                  TypeSelector(dtype='object')),\n",
       "                                                                 ('imputer',\n",
       "                                                                  SimpleImputer(add_indicator=False,\n",
       "                                                                                copy=True,\n",
       "                                                                                fill_value=None,\n",
       "                                                                                missing_values=nan,\n",
       "                                                                                strategy='most_frequent',\n",
       "                                                                                verbose=0)),\n",
       "                                                                 ('one_hot_encoder',\n",
       "                                                                  OneHotEncoder(categorica...\n",
       "                                                                  StandardScaler(copy=True,\n",
       "                                                                                 with_mean=True,\n",
       "                                                                                 with_std=True))],\n",
       "                                                          verbose=False))],\n",
       "                              transformer_weights=None, verbose=False)),\n",
       "                ('predict',\n",
       "                 ElasticNet(alpha=0.001, copy_X=True, fit_intercept=True,\n",
       "                            l1_ratio=0.7000000000000001, max_iter=100000,\n",
       "                            normalize=False, positive=False, precompute=False,\n",
       "                            random_state=None, selection='cyclic', tol=0.0001,\n",
       "                            warm_start=False))],\n",
       "         verbose=False)"
      ]
     },
     "execution_count": 15,
     "metadata": {},
     "output_type": "execute_result"
    }
   ],
   "source": [
    "cvres = grid_search.cv_results_\n",
    "grid_search.best_estimator_\n",
    "\n",
    "#[(np.sqrt(-score), stddev, para) for score, stddev, para in zip(cvres['mean_test_score'], cvres['std_test_score'], cvres['params'])]"
   ]
  },
  {
   "cell_type": "code",
   "execution_count": 31,
   "metadata": {},
   "outputs": [
    {
     "data": {
      "text/plain": [
       "Text(0.5, 1.0, 'Coefficients in the ElasticNet Model')"
      ]
     },
     "execution_count": 31,
     "metadata": {},
     "output_type": "execute_result"
    },
    {
     "data": {
      "image/png": "[encoded data removed]",
      "text/plain": [
       "<Figure size 576x720 with 1 Axes>"
      ]
     },
     "metadata": {
      "needs_background": "light"
     },
     "output_type": "display_data"
    }
   ],
   "source": [
    "coef = pd.Series(grid_search.best_estimator_.named_steps['predict'].coef_, index = feature_names)\n",
    "imp_coef = pd.concat([coef.sort_values().head(10),\n",
    "                     coef.sort_values().tail(10)])\n",
    "matplotlib.rcParams['figure.figsize'] = (8.0, 10.0)\n",
    "imp_coef.plot(kind = \"barh\")\n",
    "plt.title(\"Coefficients in the ElasticNet Model\")"
   ]
  },
  {
   "cell_type": "code",
   "execution_count": 32,
   "metadata": {},
   "outputs": [
    {
     "name": "stdout",
     "output_type": "stream",
     "text": [
      "result on test set: 0.11500966968807852\n"
     ]
    }
   ],
   "source": [
    "pred = grid_search.best_estimator_.predict(x_test)\n",
    "print('result on test set:' ,np.sqrt(mean_squared_error(np.log(y_test), pred)))"
   ]
  },
  {
   "cell_type": "markdown",
   "metadata": {},
   "source": [
    "# Random Forest"
   ]
  },
  {
   "cell_type": "code",
   "execution_count": 16,
   "metadata": {},
   "outputs": [
    {
     "name": "stdout",
     "output_type": "stream",
     "text": [
      "Fitting 5 folds for each of 27 candidates, totalling 135 fits\n"
     ]
    },
    {
     "name": "stderr",
     "output_type": "stream",
     "text": [
      "[Parallel(n_jobs=1)]: Using backend SequentialBackend with 1 concurrent workers.\n",
      "[Parallel(n_jobs=1)]: Done 135 out of 135 | elapsed:  1.5min finished\n"
     ]
    },
    {
     "data": {
      "text/plain": [
       "GridSearchCV(cv=5, error_score='raise-deprecating',\n",
       "             estimator=Pipeline(memory=None,\n",
       "                                steps=[('prepare',\n",
       "                                        FeatureUnion(n_jobs=None,\n",
       "                                                     transformer_list=[('categorical_pipeline',\n",
       "                                                                        Pipeline(memory=None,\n",
       "                                                                                 steps=[('cat_selector',\n",
       "                                                                                         TypeSelector(dtype='object')),\n",
       "                                                                                        ('imputer',\n",
       "                                                                                         SimpleImputer(add_indicator=False,\n",
       "                                                                                                       copy=True,\n",
       "                                                                                                       fill_value=None,\n",
       "                                                                                                       missing_values=nan,\n",
       "                                                                                                       strategy='most_frequ...\n",
       "                                                              oob_score=False,\n",
       "                                                              random_state=None,\n",
       "                                                              verbose=0,\n",
       "                                                              warm_start=False))],\n",
       "                                verbose=False),\n",
       "             iid='warn', n_jobs=None,\n",
       "             param_grid={'predict__max_features': [25, 50, 75],\n",
       "                         'predict__min_samples_split': [2, 4, 6],\n",
       "                         'predict__n_estimators': [100, 150, 200]},\n",
       "             pre_dispatch='2*n_jobs', refit=True, return_train_score=False,\n",
       "             scoring=make_scorer(mean_squared_error, greater_is_better=False),\n",
       "             verbose=1)"
      ]
     },
     "execution_count": 16,
     "metadata": {},
     "output_type": "execute_result"
    }
   ],
   "source": [
    "from sklearn.ensemble import RandomForestRegressor\n",
    "\n",
    "randomforestreg = RandomForestRegressor()\n",
    "\n",
    "prepare_predict_pipeline = Pipeline([\n",
    "    ('prepare', preprocess_pipeline),\n",
    "    ('predict', randomforestreg),\n",
    "])\n",
    "\n",
    "params = {'predict__n_estimators':[100,150,200],\n",
    "              'predict__max_features':[25,50,75],\n",
    "              'predict__min_samples_split':[2,4,6]}\n",
    "\n",
    "grid_search = GridSearchCV(prepare_predict_pipeline, param_grid=params, scoring=scorer, cv = 5, verbose=1)\n",
    "grid_search.fit(x_train, np.log(y_train))\n"
   ]
  },
  {
   "cell_type": "code",
   "execution_count": 17,
   "metadata": {},
   "outputs": [
    {
     "data": {
      "text/plain": [
       "Pipeline(memory=None,\n",
       "         steps=[('prepare',\n",
       "                 FeatureUnion(n_jobs=None,\n",
       "                              transformer_list=[('categorical_pipeline',\n",
       "                                                 Pipeline(memory=None,\n",
       "                                                          steps=[('cat_selector',\n",
       "                                                                  TypeSelector(dtype='object')),\n",
       "                                                                 ('imputer',\n",
       "                                                                  SimpleImputer(add_indicator=False,\n",
       "                                                                                copy=True,\n",
       "                                                                                fill_value=None,\n",
       "                                                                                missing_values=nan,\n",
       "                                                                                strategy='most_frequent',\n",
       "                                                                                verbose=0)),\n",
       "                                                                 ('one_hot_encoder',\n",
       "                                                                  OneHotEncoder(categorica...\n",
       "                              transformer_weights=None, verbose=False)),\n",
       "                ('predict',\n",
       "                 RandomForestRegressor(bootstrap=True, criterion='mse',\n",
       "                                       max_depth=None, max_features=75,\n",
       "                                       max_leaf_nodes=None,\n",
       "                                       min_impurity_decrease=0.0,\n",
       "                                       min_impurity_split=None,\n",
       "                                       min_samples_leaf=1, min_samples_split=4,\n",
       "                                       min_weight_fraction_leaf=0.0,\n",
       "                                       n_estimators=200, n_jobs=None,\n",
       "                                       oob_score=False, random_state=None,\n",
       "                                       verbose=0, warm_start=False))],\n",
       "         verbose=False)"
      ]
     },
     "execution_count": 17,
     "metadata": {},
     "output_type": "execute_result"
    }
   ],
   "source": [
    "cvres = grid_search.cv_results_\n",
    "#cvres\n",
    "grid_search.best_estimator_\n",
    "#[(np.sqrt(-score), stddev, para) for score, stddev, para in zip(cvres['mean_test_score'], cvres['std_test_score'], cvres['params'])]"
   ]
  },
  {
   "cell_type": "code",
   "execution_count": 35,
   "metadata": {},
   "outputs": [
    {
     "name": "stdout",
     "output_type": "stream",
     "text": [
      "result on test set: 0.13403980320159567\n"
     ]
    }
   ],
   "source": [
    "pred = grid_search.best_estimator_.predict(x_test)\n",
    "print('result on test set:' ,np.sqrt(mean_squared_error(np.log(y_test), pred)))"
   ]
  },
  {
   "cell_type": "markdown",
   "metadata": {},
   "source": [
    "# XGBoost"
   ]
  },
  {
   "cell_type": "code",
   "execution_count": 19,
   "metadata": {},
   "outputs": [
    {
     "name": "stdout",
     "output_type": "stream",
     "text": [
      "Fitting 5 folds for each of 15 candidates, totalling 75 fits\n",
      "[10:13:22] WARNING: src/objective/regression_obj.cu:152: reg:linear is now deprecated in favor of reg:squarederror.\n"
     ]
    },
    {
     "name": "stderr",
     "output_type": "stream",
     "text": [
      "[Parallel(n_jobs=1)]: Using backend SequentialBackend with 1 concurrent workers.\n"
     ]
    },
    {
     "name": "stdout",
     "output_type": "stream",
     "text": [
      "[10:13:23] WARNING: src/objective/regression_obj.cu:152: reg:linear is now deprecated in favor of reg:squarederror.\n",
      "[10:13:23] WARNING: src/objective/regression_obj.cu:152: reg:linear is now deprecated in favor of reg:squarederror.\n",
      "[10:13:23] WARNING: src/objective/regression_obj.cu:152: reg:linear is now deprecated in favor of reg:squarederror.\n",
      "[10:13:24] WARNING: src/objective/regression_obj.cu:152: reg:linear is now deprecated in favor of reg:squarederror.\n",
      "[10:13:24] WARNING: src/objective/regression_obj.cu:152: reg:linear is now deprecated in favor of reg:squarederror.\n",
      "[10:13:24] WARNING: src/objective/regression_obj.cu:152: reg:linear is now deprecated in favor of reg:squarederror.\n",
      "[10:13:25] WARNING: src/objective/regression_obj.cu:152: reg:linear is now deprecated in favor of reg:squarederror.\n",
      "[10:13:25] WARNING: src/objective/regression_obj.cu:152: reg:linear is now deprecated in favor of reg:squarederror.\n",
      "[10:13:26] WARNING: src/objective/regression_obj.cu:152: reg:linear is now deprecated in favor of reg:squarederror.\n",
      "[10:13:26] WARNING: src/objective/regression_obj.cu:152: reg:linear is now deprecated in favor of reg:squarederror.\n",
      "[10:13:27] WARNING: src/objective/regression_obj.cu:152: reg:linear is now deprecated in favor of reg:squarederror.\n",
      "[10:13:27] WARNING: src/objective/regression_obj.cu:152: reg:linear is now deprecated in favor of reg:squarederror.\n",
      "[10:13:28] WARNING: src/objective/regression_obj.cu:152: reg:linear is now deprecated in favor of reg:squarederror.\n",
      "[10:13:29] WARNING: src/objective/regression_obj.cu:152: reg:linear is now deprecated in favor of reg:squarederror.\n",
      "[10:13:29] WARNING: src/objective/regression_obj.cu:152: reg:linear is now deprecated in favor of reg:squarederror.\n",
      "[10:13:30] WARNING: src/objective/regression_obj.cu:152: reg:linear is now deprecated in favor of reg:squarederror.\n",
      "[10:13:31] WARNING: src/objective/regression_obj.cu:152: reg:linear is now deprecated in favor of reg:squarederror.\n",
      "[10:13:32] WARNING: src/objective/regression_obj.cu:152: reg:linear is now deprecated in favor of reg:squarederror.\n",
      "[10:13:32] WARNING: src/objective/regression_obj.cu:152: reg:linear is now deprecated in favor of reg:squarederror.\n",
      "[10:13:33] WARNING: src/objective/regression_obj.cu:152: reg:linear is now deprecated in favor of reg:squarederror.\n",
      "[10:13:34] WARNING: src/objective/regression_obj.cu:152: reg:linear is now deprecated in favor of reg:squarederror.\n",
      "[10:13:35] WARNING: src/objective/regression_obj.cu:152: reg:linear is now deprecated in favor of reg:squarederror.\n",
      "[10:13:36] WARNING: src/objective/regression_obj.cu:152: reg:linear is now deprecated in favor of reg:squarederror.\n",
      "[10:13:37] WARNING: src/objective/regression_obj.cu:152: reg:linear is now deprecated in favor of reg:squarederror.\n",
      "[10:13:38] WARNING: src/objective/regression_obj.cu:152: reg:linear is now deprecated in favor of reg:squarederror.\n",
      "[10:13:38] WARNING: src/objective/regression_obj.cu:152: reg:linear is now deprecated in favor of reg:squarederror.\n",
      "[10:13:38] WARNING: src/objective/regression_obj.cu:152: reg:linear is now deprecated in favor of reg:squarederror.\n",
      "[10:13:39] WARNING: src/objective/regression_obj.cu:152: reg:linear is now deprecated in favor of reg:squarederror.\n",
      "[10:13:39] WARNING: src/objective/regression_obj.cu:152: reg:linear is now deprecated in favor of reg:squarederror.\n",
      "[10:13:40] WARNING: src/objective/regression_obj.cu:152: reg:linear is now deprecated in favor of reg:squarederror.\n",
      "[10:13:40] WARNING: src/objective/regression_obj.cu:152: reg:linear is now deprecated in favor of reg:squarederror.\n",
      "[10:13:41] WARNING: src/objective/regression_obj.cu:152: reg:linear is now deprecated in favor of reg:squarederror.\n",
      "[10:13:42] WARNING: src/objective/regression_obj.cu:152: reg:linear is now deprecated in favor of reg:squarederror.\n",
      "[10:13:42] WARNING: src/objective/regression_obj.cu:152: reg:linear is now deprecated in favor of reg:squarederror.\n",
      "[10:13:43] WARNING: src/objective/regression_obj.cu:152: reg:linear is now deprecated in favor of reg:squarederror.\n",
      "[10:13:44] WARNING: src/objective/regression_obj.cu:152: reg:linear is now deprecated in favor of reg:squarederror.\n",
      "[10:13:45] WARNING: src/objective/regression_obj.cu:152: reg:linear is now deprecated in favor of reg:squarederror.\n",
      "[10:13:46] WARNING: src/objective/regression_obj.cu:152: reg:linear is now deprecated in favor of reg:squarederror.\n",
      "[10:13:47] WARNING: src/objective/regression_obj.cu:152: reg:linear is now deprecated in favor of reg:squarederror.\n",
      "[10:13:48] WARNING: src/objective/regression_obj.cu:152: reg:linear is now deprecated in favor of reg:squarederror.\n",
      "[10:13:49] WARNING: src/objective/regression_obj.cu:152: reg:linear is now deprecated in favor of reg:squarederror.\n",
      "[10:13:50] WARNING: src/objective/regression_obj.cu:152: reg:linear is now deprecated in favor of reg:squarederror.\n",
      "[10:13:51] WARNING: src/objective/regression_obj.cu:152: reg:linear is now deprecated in favor of reg:squarederror.\n",
      "[10:13:53] WARNING: src/objective/regression_obj.cu:152: reg:linear is now deprecated in favor of reg:squarederror.\n",
      "[10:13:54] WARNING: src/objective/regression_obj.cu:152: reg:linear is now deprecated in favor of reg:squarederror.\n",
      "[10:13:55] WARNING: src/objective/regression_obj.cu:152: reg:linear is now deprecated in favor of reg:squarederror.\n",
      "[10:13:57] WARNING: src/objective/regression_obj.cu:152: reg:linear is now deprecated in favor of reg:squarederror.\n",
      "[10:13:58] WARNING: src/objective/regression_obj.cu:152: reg:linear is now deprecated in favor of reg:squarederror.\n",
      "[10:14:00] WARNING: src/objective/regression_obj.cu:152: reg:linear is now deprecated in favor of reg:squarederror.\n",
      "[10:14:01] WARNING: src/objective/regression_obj.cu:152: reg:linear is now deprecated in favor of reg:squarederror.\n",
      "[10:14:02] WARNING: src/objective/regression_obj.cu:152: reg:linear is now deprecated in favor of reg:squarederror.\n",
      "[10:14:02] WARNING: src/objective/regression_obj.cu:152: reg:linear is now deprecated in favor of reg:squarederror.\n",
      "[10:14:03] WARNING: src/objective/regression_obj.cu:152: reg:linear is now deprecated in favor of reg:squarederror.\n",
      "[10:14:03] WARNING: src/objective/regression_obj.cu:152: reg:linear is now deprecated in favor of reg:squarederror.\n",
      "[10:14:04] WARNING: src/objective/regression_obj.cu:152: reg:linear is now deprecated in favor of reg:squarederror.\n",
      "[10:14:05] WARNING: src/objective/regression_obj.cu:152: reg:linear is now deprecated in favor of reg:squarederror.\n",
      "[10:14:06] WARNING: src/objective/regression_obj.cu:152: reg:linear is now deprecated in favor of reg:squarederror.\n",
      "[10:14:06] WARNING: src/objective/regression_obj.cu:152: reg:linear is now deprecated in favor of reg:squarederror.\n",
      "[10:14:07] WARNING: src/objective/regression_obj.cu:152: reg:linear is now deprecated in favor of reg:squarederror.\n",
      "[10:14:08] WARNING: src/objective/regression_obj.cu:152: reg:linear is now deprecated in favor of reg:squarederror.\n",
      "[10:14:10] WARNING: src/objective/regression_obj.cu:152: reg:linear is now deprecated in favor of reg:squarederror.\n",
      "[10:14:11] WARNING: src/objective/regression_obj.cu:152: reg:linear is now deprecated in favor of reg:squarederror.\n",
      "[10:14:12] WARNING: src/objective/regression_obj.cu:152: reg:linear is now deprecated in favor of reg:squarederror.\n",
      "[10:14:13] WARNING: src/objective/regression_obj.cu:152: reg:linear is now deprecated in favor of reg:squarederror.\n",
      "[10:14:15] WARNING: src/objective/regression_obj.cu:152: reg:linear is now deprecated in favor of reg:squarederror.\n",
      "[10:14:16] WARNING: src/objective/regression_obj.cu:152: reg:linear is now deprecated in favor of reg:squarederror.\n",
      "[10:14:18] WARNING: src/objective/regression_obj.cu:152: reg:linear is now deprecated in favor of reg:squarederror.\n",
      "[10:14:20] WARNING: src/objective/regression_obj.cu:152: reg:linear is now deprecated in favor of reg:squarederror.\n",
      "[10:14:21] WARNING: src/objective/regression_obj.cu:152: reg:linear is now deprecated in favor of reg:squarederror.\n",
      "[10:14:23] WARNING: src/objective/regression_obj.cu:152: reg:linear is now deprecated in favor of reg:squarederror.\n",
      "[10:14:25] WARNING: src/objective/regression_obj.cu:152: reg:linear is now deprecated in favor of reg:squarederror.\n"
     ]
    },
    {
     "name": "stdout",
     "output_type": "stream",
     "text": [
      "[10:14:27] WARNING: src/objective/regression_obj.cu:152: reg:linear is now deprecated in favor of reg:squarederror.\n",
      "[10:14:29] WARNING: src/objective/regression_obj.cu:152: reg:linear is now deprecated in favor of reg:squarederror.\n",
      "[10:14:31] WARNING: src/objective/regression_obj.cu:152: reg:linear is now deprecated in favor of reg:squarederror.\n"
     ]
    },
    {
     "name": "stderr",
     "output_type": "stream",
     "text": [
      "[Parallel(n_jobs=1)]: Done  75 out of  75 | elapsed:  1.2min finished\n"
     ]
    },
    {
     "name": "stdout",
     "output_type": "stream",
     "text": [
      "[10:14:33] WARNING: src/objective/regression_obj.cu:152: reg:linear is now deprecated in favor of reg:squarederror.\n"
     ]
    },
    {
     "data": {
      "text/plain": [
       "GridSearchCV(cv=5, error_score='raise-deprecating',\n",
       "             estimator=Pipeline(memory=None,\n",
       "                                steps=[('prepare',\n",
       "                                        FeatureUnion(n_jobs=None,\n",
       "                                                     transformer_list=[('categorical_pipeline',\n",
       "                                                                        Pipeline(memory=None,\n",
       "                                                                                 steps=[('cat_selector',\n",
       "                                                                                         TypeSelector(dtype='object')),\n",
       "                                                                                        ('imputer',\n",
       "                                                                                         SimpleImputer(add_indicator=False,\n",
       "                                                                                                       copy=True,\n",
       "                                                                                                       fill_value=None,\n",
       "                                                                                                       missing_values=nan,\n",
       "                                                                                                       strategy='most_frequ...\n",
       "                                                     reg_alpha=0, reg_lambda=1,\n",
       "                                                     scale_pos_weight=1,\n",
       "                                                     seed=None, silent=None,\n",
       "                                                     subsample=1,\n",
       "                                                     verbosity=1))],\n",
       "                                verbose=False),\n",
       "             iid='warn', n_jobs=None,\n",
       "             param_grid={'predict__max_depth': [1, 2, 3],\n",
       "                         'predict__n_estimators': [100, 200, 300, 400, 500]},\n",
       "             pre_dispatch='2*n_jobs', refit=True, return_train_score=False,\n",
       "             scoring=make_scorer(mean_squared_error, greater_is_better=False),\n",
       "             verbose=1)"
      ]
     },
     "execution_count": 19,
     "metadata": {},
     "output_type": "execute_result"
    }
   ],
   "source": [
    "from xgboost import XGBRegressor\n",
    "\n",
    "\n",
    "xgboostreg = XGBRegressor()\n",
    "\n",
    "prepare_predict_pipeline = Pipeline([\n",
    "    ('prepare', preprocess_pipeline),\n",
    "    ('predict', xgboostreg),\n",
    "])\n",
    "\n",
    "params = {'predict__n_estimators':[100,200,300,400,500],\n",
    "              'predict__max_depth':[1,2,3],\n",
    "             }\n",
    "\n",
    "grid_search = GridSearchCV(prepare_predict_pipeline, param_grid=params, scoring=scorer, cv = 5, verbose=1)\n",
    "grid_search.fit(x_train, np.log(y_train))"
   ]
  },
  {
   "cell_type": "code",
   "execution_count": 20,
   "metadata": {},
   "outputs": [
    {
     "data": {
      "text/plain": [
       "Pipeline(memory=None,\n",
       "         steps=[('prepare',\n",
       "                 FeatureUnion(n_jobs=None,\n",
       "                              transformer_list=[('categorical_pipeline',\n",
       "                                                 Pipeline(memory=None,\n",
       "                                                          steps=[('cat_selector',\n",
       "                                                                  TypeSelector(dtype='object')),\n",
       "                                                                 ('imputer',\n",
       "                                                                  SimpleImputer(add_indicator=False,\n",
       "                                                                                copy=True,\n",
       "                                                                                fill_value=None,\n",
       "                                                                                missing_values=nan,\n",
       "                                                                                strategy='most_frequent',\n",
       "                                                                                verbose=0)),\n",
       "                                                                 ('one_hot_encoder',\n",
       "                                                                  OneHotEncoder(categorica...\n",
       "                              colsample_bylevel=1, colsample_bynode=1,\n",
       "                              colsample_bytree=1, gamma=0,\n",
       "                              importance_type='gain', learning_rate=0.1,\n",
       "                              max_delta_step=0, max_depth=2, min_child_weight=1,\n",
       "                              missing=None, n_estimators=500, n_jobs=1,\n",
       "                              nthread=None, objective='reg:linear',\n",
       "                              random_state=0, reg_alpha=0, reg_lambda=1,\n",
       "                              scale_pos_weight=1, seed=None, silent=None,\n",
       "                              subsample=1, verbosity=1))],\n",
       "         verbose=False)"
      ]
     },
     "execution_count": 20,
     "metadata": {},
     "output_type": "execute_result"
    }
   ],
   "source": [
    "cvres = grid_search.cv_results_\n",
    "cvres\n",
    "grid_search.best_estimator_\n",
    "#[(np.sqrt(-score), stddev, para) for score, stddev, para in zip(cvres['mean_test_score'], cvres['std_test_score'], cvres['params'])]"
   ]
  },
  {
   "cell_type": "code",
   "execution_count": 38,
   "metadata": {},
   "outputs": [
    {
     "name": "stdout",
     "output_type": "stream",
     "text": [
      "result on test set: 0.11232278834384246\n"
     ]
    }
   ],
   "source": [
    "pred = grid_search.best_estimator_.predict(x_test)\n",
    "print('result on test set:' ,np.sqrt(mean_squared_error(np.log(y_test), pred)))"
   ]
  }
 ],
 "metadata": {
  "kernelspec": {
   "display_name": "Python 3",
   "language": "python",
   "name": "python3"
  },
  "language_info": {
   "codemirror_mode": {
    "name": "ipython",
    "version": 3
   },
   "file_extension": ".py",
   "mimetype": "text/x-python",
   "name": "python",
   "nbconvert_exporter": "python",
   "pygments_lexer": "ipython3",
   "version": "3.7.3"
  }
 },
 "nbformat": 4,
 "nbformat_minor": 2
}
